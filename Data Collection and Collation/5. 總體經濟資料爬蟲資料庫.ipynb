{
 "cells": [
  {
   "cell_type": "code",
   "execution_count": 99,
   "metadata": {},
   "outputs": [],
   "source": [
    "import requests\n",
    "import datetime\n",
    "import pandas as pd\n",
    "import numpy as np\n",
    "import json\n",
    "import matplotlib.pyplot as plt"
   ]
  },
  {
   "cell_type": "code",
   "execution_count": 21,
   "metadata": {},
   "outputs": [],
   "source": [
    "# 台美利差\n",
    "\"\"\"\n",
    "Actually, you can download these data as a csv file at the following link: \n",
    "https://www.investing.com/rates-bonds/us-10y-vs-tw-10y-historical-data\n",
    "And you can easily get these data, and follow the following step to collate data.\n",
    "\"\"\"\n",
    "def TW10_US10_Spread(collateType = \"update\"):\n",
    "    \"\"\" collateType\n",
    "    \"new\" means you download a period of data and want to save it as a new one called \"台美利差資料庫.csv\".\n",
    "    \"update\" means you download a/a period of new data and want to append to \"台美利差資料庫.csv\"\n",
    "    \"\"\"\n",
    "    if collateType == \"new\":\n",
    "        # after you download it, the csv file name would be formally as following, my example download from 20190101 to 20191231\n",
    "        df_TW10US10 = pd.read_csv(\"Taiwan 10 Year vs US 10 Year Spread Bond Yield Historical Data.csv\", encoding = \"utf-8\")\n",
    "\n",
    "        # Let data from old to new.\n",
    "        df_TW10US10 = df_TW10US10.iloc[::-1]\n",
    "        df_TW10US10.reset_index(drop = True, inplace = True)\n",
    "\n",
    "        # save it as a new csv called 台美利差資料庫.csv\n",
    "        df_TW10US10.to_csv('台美利差資料庫.csv', encoding=\"utf-8\", index = 0)\n",
    "    elif collateType == \"update\":\n",
    "        df_TW10US10_original = pd.read_csv(\"台美利差資料庫.csv\")\n",
    "        \n",
    "        # a day or a period data which you'd like to update.\n",
    "        df_TW10US10_new = pd.read_csv(\"Taiwan 10 Year vs US 10 Year Spread Bond Yield Historical Data.csv\", encoding = \"utf-8\")\n",
    "        \n",
    "        # Let data from old to new.\n",
    "        df_TW10US10_new = df_TW10US10_new.iloc[::-1]\n",
    "        \n",
    "        # concat\n",
    "        df_TW10US10 = pd.concat([df_TW10US10_original, df_TW10US10_new])\n",
    "        df_TW10US10.reset_index(drop = True, inplace = True)\n",
    "        \n",
    "        # save it into 台美利差資料庫.csv\n",
    "        df_TW10US10.to_csv('台美利差資料庫.csv', encoding=\"utf-8\", index = 0)"
   ]
  },
  {
   "cell_type": "code",
   "execution_count": 41,
   "metadata": {},
   "outputs": [],
   "source": [
    "# 美國10年期-2年期利差\n",
    "\"\"\"\n",
    "Actually, you can download these data as a csv file at the following link: \n",
    "US10Y : https://www.investing.com/rates-bonds/u.s.-10-year-bond-yield-historical-data\n",
    "US2Y : https://www.investing.com/rates-bonds/u.s.-2-year-bond-yield-historical-data\n",
    "And you can easily get these data, and follow the following step to collate data.\n",
    "\"\"\"\n",
    "def US10_US2_Spread(collateType = \"update\"):\n",
    "    \"\"\" collateType\n",
    "    \"new\" means you download a period of data and want to save it as a new one called \"台美利差資料庫.csv\".\n",
    "    \"update\" means you download a/a period of new data and want to append to \"台美利差資料庫.csv\"\n",
    "    \"\"\"\n",
    "    if collateType == \"new\":\n",
    "        # after you download it, the csv file name would be formally as following, my example download from 20190101 to 20191231\n",
    "        df_US2 = pd.read_csv(\"United States 2-Year Bond Yield Historical Data.csv\", encoding = \"utf-8\")\n",
    "        df_US2.rename(columns = {\"Price\":\"US2_Price\"}, inplace = True)\n",
    "        df_US2 = df_US2[[\"Date\", \"US2_Price\"]]\n",
    "        df_US10 = pd.read_csv(\"United States 10-Year Bond Yield Historical Data.csv\", encoding = \"utf-8\")\n",
    "        df_US10.rename(columns = {\"Price\":\"US10_Price\"}, inplace = True)\n",
    "        df_US10 = df_US10[[\"US10_Price\"]]\n",
    "        df_US10US2 = pd.concat([df_US2, df_US10], axis = 1)\n",
    "        df_US10US2[\"10-2\"] = df_US10US2[\"US10_Price\"] - df_US10US2[\"US2_Price\"]\n",
    "        \n",
    "        # Let data from old to new.\n",
    "        df_US10US2 = df_US10US2.iloc[::-1]\n",
    "        df_US10US2.reset_index(drop = True, inplace = True)\n",
    "\n",
    "        # save it as a new csv called 台美利差資料庫.csv\n",
    "        df_US10US2.to_csv('美國10-2利差資料庫.csv', encoding=\"utf-8\", index = 0)\n",
    "        \n",
    "    elif collateType == \"update\":\n",
    "        df_US10US2_original = pd.read_csv(\"美國10-2利差資料庫.csv\")\n",
    "        \n",
    "        # a day or a period data which you'd like to update.\n",
    "        df_US2_new = pd.read_csv(\"United States 2-Year Bond Yield Historical Data.csv\", encoding = \"utf-8\")\n",
    "        df_US2_new.rename(columns = {\"Price\":\"US2_Price\"}, inplace = True)\n",
    "        df_US2_new = df_US2_new[[\"Date\", \"US2_Price\"]]\n",
    "        df_US10_new = pd.read_csv(\"United States 10-Year Bond Yield Historical Data.csv\", encoding = \"utf-8\")\n",
    "        df_US10_new.rename(columns = {\"Price\":\"US10_Price\"}, inplace = True)\n",
    "        df_US10_new = df_US10_new[[\"US10_Price\"]]\n",
    "        df_US10US2_new = pd.concat([df_US2_new, df_US10_new], axis = 1)\n",
    "        df_US10US2_new[\"10-2\"] = df_US10US2_new[\"US10_Price\"] - df_US10US2_new[\"US2_Price\"]\n",
    "        \n",
    "        # Let data from old to new.\n",
    "        df_US10US2_new = df_US10US2_new.iloc[::-1]\n",
    "        \n",
    "        # concat\n",
    "        df_US10US2 = pd.concat([df_US10US2_original, df_US10US2_new])\n",
    "        df_US10US2.reset_index(drop = True, inplace = True)\n",
    "        \n",
    "        # save it into 台美利差資料庫.csv\n",
    "        df_US10US2.to_csv('美國10-2利差資料庫.csv', encoding=\"utf-8\", index = 0)"
   ]
  },
  {
   "cell_type": "code",
   "execution_count": 89,
   "metadata": {},
   "outputs": [],
   "source": [
    "# 美國非農就業人數\n",
    "\"\"\"\n",
    "Actually, you can get these data and do a csv file at the following link: \n",
    "https://www.investing.com/economic-calendar/nonfarm-payrolls-227\n",
    "And you can follow the following step to collate data.\n",
    "\"\"\"\n",
    "df_nonfarmPayrolls = pd.read_csv(\"US Nonfarm Payrolls.csv\", encoding = \"utf-8\")\n",
    "df_nonfarmPayrolls = df_nonfarmPayrolls.iloc[::-1]\n",
    "df_nonfarmPayrolls.reset_index(drop = True, inplace = True)\n",
    "df_nonfarmPayrolls = df_nonfarmPayrolls[[\"Release Date\", \"Actual\", \"Forecast\"]]\n",
    "df_nonfarmPayrolls[\"Actual\"] = [int(i.replace(\"K\",\"\")) * 1000 for i in df_nonfarmPayrolls[\"Actual\"]]\n",
    "df_nonfarmPayrolls[\"Forecast\"] = [int(i.replace(\"K\",\"\")) * 1000 for i in df_nonfarmPayrolls[\"Forecast\"]]\n",
    "df_nonfarmPayrolls.to_csv('非農資料庫.csv', encoding=\"utf-8\", index = 0)"
   ]
  },
  {
   "cell_type": "code",
   "execution_count": 90,
   "metadata": {},
   "outputs": [
    {
     "data": {
      "text/plain": [
       "[<matplotlib.lines.Line2D at 0x11f6e6750>]"
      ]
     },
     "execution_count": 90,
     "metadata": {},
     "output_type": "execute_result"
    },
    {
     "data": {
      "image/png": "[encoded data removed]",
      "text/plain": [
       "<Figure size 432x288 with 1 Axes>"
      ]
     },
     "metadata": {
      "needs_background": "light"
     },
     "output_type": "display_data"
    }
   ],
   "source": [
    "plt.plot(df_nonfarmPayrolls[\"Actual\"])\n",
    "plt.plot(df_nonfarmPayrolls[\"Forecast\"])"
   ]
  },
  {
   "cell_type": "code",
   "execution_count": 100,
   "metadata": {},
   "outputs": [],
   "source": [
    "# VIX\n",
    "def crawl_price_vix(security_id=\"^VIX\"):\n",
    "    start = int(datetime.datetime.now().timestamp()) - 86400 * 365\n",
    "    now = int(datetime.datetime.now().timestamp()) + 86400\n",
    "    url = \"https://query1.finance.yahoo.com/v8/finance/chart/\" + security_id + \"?period1=\" + str(start) + \"&period2=\" + str(now) + \"&interval=1d&events=history&=hP2rOschxO0\"\n",
    "    response = requests.get(url)\n",
    "    data = json.loads(response.text)\n",
    "    df = pd.DataFrame(data['chart']['result'][0]['indicators']['quote'][0], index=pd.to_datetime(np.array(data['chart']['result'][0]['timestamp'])*1000*1000*1000))\n",
    "    return df.to_csv('VIX資料庫.csv', encoding=\"utf-8\", index = 0)"
   ]
  },
  {
   "cell_type": "code",
   "execution_count": 101,
   "metadata": {},
   "outputs": [],
   "source": [
    "crawl_price_vix()"
   ]
  },
  {
   "cell_type": "code",
   "execution_count": 103,
   "metadata": {},
   "outputs": [
    {
     "data": {
      "text/plain": [
       "[<matplotlib.lines.Line2D at 0x11f9a8350>]"
      ]
     },
     "execution_count": 103,
     "metadata": {},
     "output_type": "execute_result"
    },
    {
     "data": {
      "image/png": "[encoded data removed]",
      "text/plain": [
       "<Figure size 432x288 with 1 Axes>"
      ]
     },
     "metadata": {
      "needs_background": "light"
     },
     "output_type": "display_data"
    }
   ],
   "source": [
    "df = pd.read_csv(\"VIX資料庫.csv\")\n",
    "plt.plot(df.close)"
   ]
  },
  {
   "cell_type": "code",
   "execution_count": null,
   "metadata": {},
   "outputs": [],
   "source": []
  }
 ],
 "metadata": {
  "kernelspec": {
   "display_name": "Python 3",
   "language": "python",
   "name": "python3"
  },
  "language_info": {
   "codemirror_mode": {
    "name": "ipython",
    "version": 3
   },
   "file_extension": ".py",
   "mimetype": "text/x-python",
   "name": "python",
   "nbconvert_exporter": "python",
   "pygments_lexer": "ipython3",
   "version": "3.7.6"
  }
 },
 "nbformat": 4,
 "nbformat_minor": 4
}
